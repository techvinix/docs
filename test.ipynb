{
 "cells": [
  {
   "cell_type": "code",
   "execution_count": null,
   "metadata": {},
   "outputs": [],
   "source": [
    "# q: What is Machine Learning?\n",
    "# a: Machine Learning is the science of programming computers so they can learn from data.      \n",
    "\n",
    "# q: Can you name four types of problems where it shines?\n",
    "# a: 1. Problems for which existing solutions require a lot of hand-tuning or long lists of rules: one Machine Learning algorithm can often simplify code and perform better.\n",
    "#    2. Complex problems for which there is no good solution at all using a traditional approach: the best Machine Learning techniques can find a solution.\n",
    "#    3. Fluctuating environments: a Machine Learning system can adapt to new data.\n",
    "#    4. Getting insights about complex problems and large amounts of data.\n",
    "\n",
    "\n",
    "# q: what do you mean by \"explicit programming\"?\n",
    "# a : Explicit programming is the process of writing out the exact steps that a computer must perform to accomplish a task.\n",
    "\n",
    "# q: what is the difference with machine learning?\n",
    "# a: Machine Learning is all about creating programs that can learn from data."
   ]
  },
  {
   "attachments": {},
   "cell_type": "markdown",
   "metadata": {},
   "source": [
    "# Supervised Learning\n"
   ]
  },
  {
   "cell_type": "code",
   "execution_count": null,
   "metadata": {},
   "outputs": [],
   "source": [
    "# q: what is supervised learning?\n",
    "# a: Supervised learning is the machine learning task of learning a function that maps an input to an output based on example input-output pairs.\n",
    "#    It infers a function from labeled training data consisting of a set of training examples.\n",
    "#   In supervised learning, each example is a pair consisting of an input object (typically a vector) and a desired output value (also called the supervisory signal).\n",
    "#  A supervised learning algorithm analyzes the training data and produces an inferred function, which can be used for mapping new examples.\n",
    "# An optimal scenario will allow for the algorithm to correctly determine the class labels for unseen instances.\n",
    "# This requires the learning algorithm to generalize from the training data to unseen situations in a \"reasonable\" way (see inductive bias).\n",
    "\n",
    "#q: What are examples of Supervised Learning ?\n",
    "# a: 1. Classification: Spam filter \n",
    "#    2. Regression: Predicting housing prices\n",
    "#    3. Classification: Detecting skin cancer\n",
    "#    4. Regression: How much should I bid for an adwords ad?\n",
    "#    5. Classification: Is this a cat or a dog?\n",
    "#   6. Regression: How much will this house sell for?\n",
    "\n"
   ]
  },
  {
   "cell_type": "code",
   "execution_count": null,
   "metadata": {},
   "outputs": [],
   "source": [
    "# q: what is Label and Features?\n",
    "# a: A label is the thing we're predicting—the y variable in simple linear regression. The feature is the input variable—the x variable in simple linear regression.\n",
    "#   A simple machine learning project might look something like this:\n",
    "#   a. Collect a set of data.\n",
    "#   b. Divide the data into two sets: training set and test set.\n",
    "#   c. Train the model using the training set.\n",
    "#   d. Test the model using the test set.\n",
    "#   e. Analyze the model's performance to determine its accuracy.\n",
    "#   f. Adjust the model and repeat the process.\n",
    "#   g. When the model performs well enough, use it to make predictions.\n",
    "#   h. Save the model so you can use it in the future.\n",
    "#   i. Use the model to make predictions.\n",
    "#   j. Save the model so you can use it in the future.\n",
    "\n",
    "\n",
    "# q: what is a training , validation and test set ?\n",
    "# a: Training set: A set of examples used for learning, that is to fit the parameters of the classifier.\n",
    "#    Validation set: A set of examples used to tune the parameters of a classifier, for example to choose the number of hidden units in a neural network.\n",
    "#    Test set: A set of examples used only to assess the performance of a fully-specified classifier.\n",
    "\n"
   ]
  },
  {
   "attachments": {},
   "cell_type": "markdown",
   "metadata": {},
   "source": [
    "# Evaluating Model"
   ]
  },
  {
   "cell_type": "code",
   "execution_count": null,
   "metadata": {},
   "outputs": [],
   "source": [
    "# q: What does it mean to evaluate a model ??\n",
    "# a: Evaluating a model is the process of determining how well a model fits the data.\n",
    "#    The evaluation process is one of the most important aspects of building a machine learning model because it gives you insight into how well the model is working.\n",
    "\n",
    "# q: how can we measure accuracy of a model ?\n",
    "# a: Accuracy is the most intuitive performance measure and it is simply a ratio of correctly predicted observation to the total observations.\n",
    "#    Accuracy = TP+TN/TP+FP+FN+TN\n",
    "\n",
    "# q: How can we measure tge accuracy of a model ?\n",
    "# a: The confusion matrix is a two by two table that contains four outcomes produced by a binary classifier. \n",
    "#    The four outcomes are true positives, false positives, true negatives and false negatives.\n",
    "#    The confusion matrix is used to measure the performance of a machine learning classifier.\n",
    "#    The confusion matrix is also known as the error matrix.\n",
    "       "
   ]
  }
 ],
 "metadata": {
  "kernelspec": {
   "display_name": "Python 3",
   "language": "python",
   "name": "python3"
  },
  "language_info": {
   "codemirror_mode": {
    "name": "ipython",
    "version": 3
   },
   "file_extension": ".py",
   "mimetype": "text/x-python",
   "name": "python",
   "nbconvert_exporter": "python",
   "pygments_lexer": "ipython3",
   "version": "3.11.4"
  },
  "orig_nbformat": 4
 },
 "nbformat": 4,
 "nbformat_minor": 2
}
