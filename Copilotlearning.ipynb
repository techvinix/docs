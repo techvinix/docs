{
 "cells": [
  {
   "attachments": {},
   "cell_type": "markdown",
   "metadata": {},
   "source": [
    "# Computer Vision"
   ]
  },
  {
   "cell_type": "code",
   "execution_count": null,
   "metadata": {},
   "outputs": [],
   "source": [
    "# q: What is the definiton of computer vision?\n",
    "# a: Computer vision is the field of study that deals with how computers can be made to gain high-level understanding from digital images or videos.\n",
    "#  From the perspective of engineering, it seeks to automate tasks that the human visual system can do.\n",
    "#  Computer vision tasks include methods for acquiring, processing, analyzing and understanding digital images, and extraction of high-dimensional data from the real world in order to produce numerical or symbolic information, e.g. in the forms of decisions.\n",
    "#  Understanding in this context means the transformation of visual images (the input of the retina) into descriptions of the world that make sense to thought processes and can elicit appropriate action.\n",
    "#  This image understanding can be seen as the disentangling of symbolic information from image data using models constructed with the aid of geometry, physics, statistics, and learning theory.\n",
    "\n",
    "\n",
    "#q: how are machine learning and AI used in Computer vision ?\n",
    "# a: Machine learning is a subset of AI that uses statistical techniques to enable machines to improve with experience.\n",
    "#  Machine learning algorithms are used in computer vision for object detection, object classification, segmentation, and image restoration.\n",
    "#  Deep learning is a subset of machine learning that uses multi-layered artificial neural networks to deliver state-of-the-art accuracy in tasks such as object detection, speech recognition, language translation and others.\n",
    "#  Deep learning algorithms are used in computer vision for object detection and image classification.\n",
    "\n",
    "#q: what is the difference between machine learning and deep learning?\n",
    "# a: Machine learning is a subset of AI that uses statistical techniques to enable machines to improve with experience.\n",
    "#  Machine learning algorithms are used in computer vision for object detection, object classification, segmentation, and image restoration.\n",
    "#  Deep learning is a subset of machine learning that uses multi-layered artificial neural networks to deliver state-of-the-art accuracy in tasks such as object detection, speech recognition, language translation and others.\n",
    "#  Deep learning algorithms are used in computer vision for object detection and image classification.\n",
    "\n",
    "\n",
    "#Q: what machine learning structure is most commonly used in computer vision?\n",
    "# a: Convolutional neural networks (CNNs) are the most commonly used structure in computer vision.\n",
    "#  CNNs are a type of deep neural network that have been successfully applied to analyzing visual imagery.\n",
    "#  CNNs are used for image classification and recognition because of their high accuracy.\n",
    "#  CNNs are also used for object detection, segmentation, and image restoration.\n",
    "\n",
    "\n"
   ]
  },
  {
   "attachments": {},
   "cell_type": "markdown",
   "metadata": {},
   "source": [
    "# Neural Network"
   ]
  },
  {
   "cell_type": "code",
   "execution_count": 1,
   "metadata": {},
   "outputs": [],
   "source": [
    "#q: what is neu network?\n",
    "# a: A neural network is a series of algorithms that endeavors to recognize underlying relationships in a set of data through a process that mimics the way the human brain operates.\n",
    "\n",
    "#Q: what diffentiates convolution neural network from other neural networks?\n",
    "# a: Convolutional neural networks (CNNs) are the most commonly used structure in computer vision.\n",
    "#  CNNs are a type of deep neural network that have been successfully applied to analyzing visual imagery.\n",
    "\n",
    "#q: what is the difference between neural network and CNN RNN ?\n",
    "# a: Convolutional neural networks (CNNs) are the most commonly used structure in computer vision.\n",
    "#  CNNs are a type of deep neural network that have been successfully applied to analyzing visual imagery.\n",
    "#  CNNs are used for image classification and recognition because of their high accuracy.\n",
    "\n",
    "#q:  what tools are most commonly used in Convolutional neural networks like PyTorch ?\n",
    "# a: PyTorch is an open source machine learning library based on the Torch library, used for applications such as computer vision and natural language processing, primarily developed by Facebook's AI Research lab (FAIR).\n",
    "#  It is free and open-source software released under the Modified BSD license.\n",
    "#  Although the Python interface is more polished and the primary focus of development, PyTorch also has a C++ interface.\n",
    "#  PyTorch provides two high-level features:\n",
    "\n",
    "#q: what is Tensor?\n",
    "# a: In mathematics, tensors are geometric objects that describe linear relations between geometric vectors, scalars, and other tensors.\n",
    "#  Elementary examples of such relations include the dot product, the cross product, and linear maps.\n",
    "#  Vectors and scalars themselves are also tensors.\n",
    "\n"
   ]
  },
  {
   "cell_type": "code",
   "execution_count": null,
   "metadata": {},
   "outputs": [],
   "source": []
  }
 ],
 "metadata": {
  "kernelspec": {
   "display_name": "Python 3",
   "language": "python",
   "name": "python3"
  },
  "language_info": {
   "codemirror_mode": {
    "name": "ipython",
    "version": 3
   },
   "file_extension": ".py",
   "mimetype": "text/x-python",
   "name": "python",
   "nbconvert_exporter": "python",
   "pygments_lexer": "ipython3",
   "version": "3.10.9"
  },
  "orig_nbformat": 4
 },
 "nbformat": 4,
 "nbformat_minor": 2
}
